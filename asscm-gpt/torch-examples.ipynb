{
 "cells": [
  {
   "cell_type": "code",
   "execution_count": 17,
   "id": "84ffb070-b5d1-4d57-a80a-2c9af48a33e2",
   "metadata": {},
   "outputs": [
    {
     "name": "stdout",
     "output_type": "stream",
     "text": [
      "cpu\n"
     ]
    }
   ],
   "source": [
    "import torch\n",
    "import torch.nn as nn\n",
    "import numpy as np\n",
    "from torch.nn import functional as F\n",
    "import time\n",
    "device = 'cuda' if torch.cuda.is_available() else 'cpu'\n",
    "print(device)"
   ]
  },
  {
   "cell_type": "code",
   "execution_count": 18,
   "id": "f81a27d2-c1d4-4c74-a39b-e9b8b1e400e8",
   "metadata": {},
   "outputs": [
    {
     "name": "stdout",
     "output_type": "stream",
     "text": [
      " 0.00101209\n",
      "CPU times: total: 0 ns\n",
      "Wall time: 1.01 ms\n"
     ]
    }
   ],
   "source": [
    "%%time\n",
    "start_time = time.time()\n",
    "\n",
    "zeros = torch.zeros(1,1)\n",
    "end_time = time.time()\n",
    "\n",
    "elapsed_time = end_time - start_time\n",
    "print(f\"{elapsed_time: .8f}\")"
   ]
  },
  {
   "cell_type": "code",
   "execution_count": 19,
   "id": "b4493e4a-89c4-4dac-a938-4e00db8a91f5",
   "metadata": {},
   "outputs": [
    {
     "name": "stdout",
     "output_type": "stream",
     "text": [
      "0.31856632\n",
      "0.41567779\n"
     ]
    }
   ],
   "source": [
    "torch_rand1 = torch.rand(100, 100, 100, 100).to(device)\n",
    "torch_rand2 = torch.rand(100, 100, 100, 100).to(device)\n",
    "np_rand1 = torch.rand(100, 100, 100, 100)\n",
    "np_rand2 = torch.rand(100, 100, 100, 100)\n",
    "\n",
    "start_time = time.time()\n",
    "\n",
    "rand = (torch_rand1 @ torch_rand2)\n",
    "\n",
    "end_time = time.time()\n",
    "\n",
    "elapsed_time = end_time - start_time\n",
    "print(f\"{elapsed_time:.8f}\")\n",
    "\n",
    "\n",
    "start_time = time.time()\n",
    "\n",
    "rand = np.multiply(np_rand1, np_rand2)\n",
    "end_time = time.time()\n",
    "elapsed_time = end_time - start_time\n",
    "print(f\"{elapsed_time:.8f}\")"
   ]
  },
  {
   "cell_type": "code",
   "execution_count": 20,
   "id": "813e5744-7e5a-4ff1-8201-f45978d28c92",
   "metadata": {},
   "outputs": [
    {
     "name": "stdout",
     "output_type": "stream",
     "text": [
      "tensor([0, 0, 1, 1, 1, 1, 1, 1, 1, 1])\n"
     ]
    }
   ],
   "source": [
    "probabilities = torch.tensor([0.1,0.9])\n",
    "\n",
    "samples = torch.multinomial(probabilities, num_samples=10, replacement=True)\n",
    "print(samples)"
   ]
  },
  {
   "cell_type": "code",
   "execution_count": 21,
   "id": "18f375c0-38b5-4b69-b8b0-fe409f45d650",
   "metadata": {},
   "outputs": [
    {
     "data": {
      "text/plain": [
       "tensor([1, 2, 3, 4, 5])"
      ]
     },
     "execution_count": 21,
     "metadata": {},
     "output_type": "execute_result"
    }
   ],
   "source": [
    "tensor = torch.tensor([1,2,3,4])\n",
    "out = torch.cat((tensor, torch.tensor([5])), dim=0)\n",
    "out"
   ]
  },
  {
   "cell_type": "code",
   "execution_count": 22,
   "id": "21cf357a-83f5-4c30-a0bf-504dc2c1041a",
   "metadata": {},
   "outputs": [
    {
     "data": {
      "text/plain": [
       "tensor([[1., 0., 0., 0., 0.],\n",
       "        [1., 1., 0., 0., 0.],\n",
       "        [1., 1., 1., 0., 0.],\n",
       "        [1., 1., 1., 1., 0.],\n",
       "        [1., 1., 1., 1., 1.]])"
      ]
     },
     "execution_count": 22,
     "metadata": {},
     "output_type": "execute_result"
    }
   ],
   "source": [
    "out = torch.tril(torch.ones(5,5))\n",
    "out"
   ]
  },
  {
   "cell_type": "code",
   "execution_count": 23,
   "id": "1fff37fb-acd4-42d3-8b93-3669c366011f",
   "metadata": {},
   "outputs": [
    {
     "data": {
      "text/plain": [
       "tensor([[1., 1., 1., 1., 1.],\n",
       "        [0., 1., 1., 1., 1.],\n",
       "        [0., 0., 1., 1., 1.],\n",
       "        [0., 0., 0., 1., 1.],\n",
       "        [0., 0., 0., 0., 1.]])"
      ]
     },
     "execution_count": 23,
     "metadata": {},
     "output_type": "execute_result"
    }
   ],
   "source": [
    "out = torch.triu(torch.ones(5,5))\n",
    "out"
   ]
  },
  {
   "cell_type": "code",
   "execution_count": 24,
   "id": "97a14a3f-299e-42bf-9c62-8ea5c50757d4",
   "metadata": {},
   "outputs": [
    {
     "data": {
      "text/plain": [
       "tensor([[0., -inf, -inf, -inf, -inf],\n",
       "        [0., 0., -inf, -inf, -inf],\n",
       "        [0., 0., 0., -inf, -inf],\n",
       "        [0., 0., 0., 0., -inf],\n",
       "        [0., 0., 0., 0., 0.]])"
      ]
     },
     "execution_count": 24,
     "metadata": {},
     "output_type": "execute_result"
    }
   ],
   "source": [
    "out = torch.zeros(5,5).masked_fill(torch.tril(torch.ones(5,5))==0, float('-inf'))\n",
    "out"
   ]
  },
  {
   "cell_type": "code",
   "execution_count": 25,
   "id": "e97b599d-2428-4e56-87fd-5f47f2da89be",
   "metadata": {},
   "outputs": [
    {
     "data": {
      "text/plain": [
       "tensor([[1., 0., 0., 0., 0.],\n",
       "        [1., 1., 0., 0., 0.],\n",
       "        [1., 1., 1., 0., 0.],\n",
       "        [1., 1., 1., 1., 0.],\n",
       "        [1., 1., 1., 1., 1.]])"
      ]
     },
     "execution_count": 25,
     "metadata": {},
     "output_type": "execute_result"
    }
   ],
   "source": [
    "torch.exp(out)"
   ]
  },
  {
   "cell_type": "code",
   "execution_count": 26,
   "id": "558de7f0-1df4-4d38-ba9f-2a654367291e",
   "metadata": {},
   "outputs": [
    {
     "data": {
      "text/plain": [
       "torch.Size([4, 3, 2])"
      ]
     },
     "execution_count": 26,
     "metadata": {},
     "output_type": "execute_result"
    }
   ],
   "source": [
    "input = torch.zeros(2,3,4)\n",
    "out = input.transpose(0,2)\n",
    "out.shape"
   ]
  },
  {
   "cell_type": "code",
   "execution_count": 27,
   "id": "97acc3dd-7600-43eb-b9e7-54a3957e44a0",
   "metadata": {},
   "outputs": [
    {
     "data": {
      "text/plain": [
       "tensor([[1, 2, 3],\n",
       "        [4, 5, 6],\n",
       "        [7, 8, 9]])"
      ]
     },
     "execution_count": 27,
     "metadata": {},
     "output_type": "execute_result"
    }
   ],
   "source": [
    "tensor1 = torch.tensor([1,2,3])\n",
    "tensor2 = torch.tensor([4,5,6])\n",
    "tensor3 = torch.tensor([7,8,9])\n",
    "\n",
    "stacked_tensor = torch.stack([tensor1, tensor2, tensor3])\n",
    "stacked_tensor"
   ]
  },
  {
   "cell_type": "code",
   "execution_count": 28,
   "id": "3f193898-ab9b-47d1-a761-7636aa702792",
   "metadata": {},
   "outputs": [
    {
     "name": "stdout",
     "output_type": "stream",
     "text": [
      "tensor([ 2.9518,  0.2397, 12.3734], grad_fn=<SqueezeBackward4>)\n"
     ]
    }
   ],
   "source": [
    "import torch.nn as nn\n",
    "sample = torch.tensor([10., 10., 10.])\n",
    "linear = nn.Linear(3,3, bias = False)\n",
    "print(linear(sample))"
   ]
  },
  {
   "cell_type": "code",
   "execution_count": 29,
   "id": "189d4a45-2d97-4992-aa32-1aeff51bbd4b",
   "metadata": {},
   "outputs": [
    {
     "name": "stdout",
     "output_type": "stream",
     "text": [
      "tensor([0.0900, 0.2447, 0.6652])\n"
     ]
    }
   ],
   "source": [
    "import torch.nn.functional as F\n",
    "\n",
    "tensor1 = torch.tensor([1.0, 2.0, 3.0])\n",
    "\n",
    "softmax_output = F.softmax(tensor1, dim=0)\n",
    "print(softmax_output)"
   ]
  },
  {
   "cell_type": "code",
   "execution_count": 30,
   "id": "0e0a427d-0c5c-4f08-9eb5-970bae36b840",
   "metadata": {},
   "outputs": [
    {
     "name": "stdout",
     "output_type": "stream",
     "text": [
      "torch.Size([2, 3, 5])\n",
      "2 3 5\n",
      "torch.Size([2, 3, 5])\n"
     ]
    }
   ],
   "source": [
    "a = torch.rand(2,3,5)\n",
    "print(a.shape)\n",
    "x,y,z = a.shape\n",
    "a = a.view(x,y,z)\n",
    "print(x,y,z)\n",
    "print(a.shape)\n"
   ]
  },
  {
   "cell_type": "code",
   "execution_count": 16,
   "id": "f47e62dd-fd42-4a84-910c-a0a785dfb389",
   "metadata": {},
   "outputs": [
    {
     "name": "stdout",
     "output_type": "stream",
     "text": [
      "tensor([[8.7241e-01, 7.2283e-01, 6.2497e-01, 9.0489e-02, 6.3127e-01, 4.9173e-01,\n",
      "         2.7254e-01, 5.9290e-01, 3.1863e-01, 8.5435e-01],\n",
      "        [1.6983e-01, 9.4444e-01, 2.9538e-01, 3.3494e-01, 6.5099e-01, 5.6376e-01,\n",
      "         8.6720e-01, 6.3401e-01, 9.6647e-01, 4.9838e-01],\n",
      "        [8.0361e-01, 2.2404e-02, 7.1707e-01, 5.9874e-01, 2.8440e-01, 5.6226e-01,\n",
      "         6.3254e-01, 2.0368e-02, 7.0139e-01, 3.1283e-01],\n",
      "        [4.4979e-01, 1.9734e-01, 8.3504e-01, 3.9518e-01, 4.7896e-01, 5.3908e-01,\n",
      "         5.4095e-01, 3.8593e-01, 7.6635e-01, 2.3713e-01],\n",
      "        [2.5995e-01, 2.3172e-01, 5.9985e-01, 4.3423e-01, 6.9812e-01, 7.5065e-01,\n",
      "         8.1169e-01, 3.8900e-01, 8.8930e-01, 3.5080e-01],\n",
      "        [7.4753e-01, 2.3580e-01, 1.3115e-01, 8.7607e-01, 9.9926e-01, 4.5421e-01,\n",
      "         3.8141e-01, 2.3232e-01, 2.5068e-01, 9.5773e-01],\n",
      "        [3.3735e-01, 4.2113e-01, 5.5207e-01, 7.8863e-01, 1.7549e-01, 3.1599e-01,\n",
      "         4.8129e-01, 2.4215e-01, 3.3509e-01, 1.0078e-01],\n",
      "        [7.6239e-03, 8.7779e-01, 2.5832e-01, 5.5330e-01, 8.4518e-01, 5.9967e-02,\n",
      "         1.5614e-01, 6.8219e-02, 2.9548e-01, 3.4577e-01],\n",
      "        [3.6291e-01, 9.7604e-02, 2.2174e-01, 5.5285e-02, 4.4671e-01, 2.6219e-01,\n",
      "         9.4342e-01, 3.4752e-01, 5.0689e-01, 4.6520e-01],\n",
      "        [7.1757e-01, 8.4100e-01, 9.2700e-01, 8.5616e-01, 4.6061e-01, 3.9426e-01,\n",
      "         5.1083e-01, 1.1459e-01, 7.7571e-01, 6.0095e-01],\n",
      "        [5.4458e-01, 1.0257e-01, 2.9855e-01, 6.7707e-01, 6.0533e-02, 9.0556e-01,\n",
      "         3.6302e-01, 2.8974e-01, 5.5216e-01, 8.2485e-01],\n",
      "        [7.2742e-01, 1.1281e-02, 3.9925e-01, 1.3035e-01, 6.8390e-01, 1.0674e-01,\n",
      "         6.6964e-01, 2.1511e-01, 3.0235e-01, 4.6031e-01],\n",
      "        [8.0772e-01, 1.6509e-02, 8.0047e-02, 7.7391e-01, 9.2132e-01, 3.1788e-01,\n",
      "         6.8165e-01, 1.4505e-01, 8.8217e-01, 2.4616e-01],\n",
      "        [2.5255e-01, 9.1952e-01, 2.0537e-01, 9.5061e-02, 4.9001e-02, 5.8807e-02,\n",
      "         3.7734e-01, 3.8333e-01, 2.9079e-02, 9.9651e-02],\n",
      "        [2.4015e-01, 6.0057e-01, 6.8244e-01, 4.0636e-01, 8.7761e-01, 1.3075e-01,\n",
      "         5.6044e-02, 2.0697e-01, 2.9606e-01, 4.0307e-01],\n",
      "        [8.6789e-01, 9.7568e-01, 2.0261e-01, 6.7140e-01, 3.0165e-01, 8.7543e-01,\n",
      "         3.9151e-01, 3.1181e-01, 5.9925e-01, 4.2069e-01],\n",
      "        [7.0862e-01, 6.2856e-01, 3.0705e-01, 3.3389e-01, 5.5283e-01, 5.1428e-01,\n",
      "         5.0051e-01, 5.7765e-01, 6.2067e-01, 3.9948e-01],\n",
      "        [2.3577e-01, 2.7045e-01, 5.0554e-01, 3.6527e-01, 2.1455e-01, 7.8674e-01,\n",
      "         9.0557e-02, 2.4633e-01, 1.4142e-01, 8.2697e-02],\n",
      "        [7.5861e-01, 9.5171e-01, 1.2430e-01, 9.1768e-01, 6.5919e-01, 7.0350e-01,\n",
      "         6.6742e-01, 2.3583e-01, 1.3709e-02, 7.6295e-01],\n",
      "        [7.1391e-01, 8.3478e-01, 4.6043e-01, 7.4468e-01, 7.5828e-01, 6.2520e-01,\n",
      "         6.7346e-02, 6.2951e-01, 9.0600e-01, 8.2908e-01],\n",
      "        [2.9491e-01, 4.1438e-01, 9.9365e-01, 7.6357e-01, 8.2798e-01, 2.3208e-01,\n",
      "         8.5153e-01, 3.7990e-01, 5.0696e-01, 1.5135e-01],\n",
      "        [2.8241e-01, 3.1194e-01, 2.5925e-01, 1.2543e-01, 3.8260e-02, 6.8397e-01,\n",
      "         2.2000e-04, 1.5131e-01, 6.6093e-01, 4.2684e-01],\n",
      "        [6.4310e-01, 7.3033e-01, 7.4063e-01, 7.8503e-01, 2.2727e-01, 2.1633e-01,\n",
      "         9.8035e-01, 7.6422e-02, 1.5738e-01, 3.6458e-01],\n",
      "        [3.3041e-01, 1.8391e-01, 3.5752e-01, 3.2404e-01, 4.9581e-01, 8.9503e-01,\n",
      "         6.2795e-01, 7.4246e-01, 2.0924e-02, 6.7669e-01],\n",
      "        [8.4649e-01, 6.4925e-01, 5.3607e-01, 5.9833e-01, 2.7589e-01, 8.9653e-01,\n",
      "         1.0943e-01, 3.7207e-01, 6.9715e-01, 6.1177e-01],\n",
      "        [7.5793e-02, 2.7635e-01, 5.8145e-01, 3.2731e-02, 1.7478e-01, 9.8248e-01,\n",
      "         2.7574e-01, 7.5662e-01, 8.9425e-01, 5.0035e-01],\n",
      "        [1.0957e-01, 5.8688e-01, 5.3477e-01, 1.7397e-01, 7.4492e-01, 9.6779e-02,\n",
      "         8.1497e-01, 2.3151e-01, 9.2714e-01, 1.8635e-01],\n",
      "        [8.9898e-01, 1.4618e-01, 1.9339e-01, 6.5923e-01, 3.7964e-01, 7.2366e-02,\n",
      "         1.6521e-01, 3.5068e-01, 4.7932e-01, 9.1359e-01],\n",
      "        [4.6804e-01, 7.4826e-01, 7.8834e-01, 8.9182e-01, 3.9615e-01, 8.2516e-01,\n",
      "         9.7310e-01, 8.0765e-01, 1.4928e-01, 3.7517e-01],\n",
      "        [8.4298e-01, 8.1244e-01, 3.8812e-01, 1.4243e-01, 4.8262e-01, 7.5530e-01,\n",
      "         2.6664e-01, 8.2393e-01, 7.2639e-01, 3.6043e-01],\n",
      "        [5.0748e-01, 9.7154e-01, 8.4304e-01, 8.2236e-01, 2.7815e-01, 6.3367e-03,\n",
      "         8.7181e-01, 7.2704e-01, 9.3606e-01, 6.3247e-02],\n",
      "        [9.0163e-01, 2.1337e-01, 2.2319e-01, 5.1213e-03, 5.4708e-02, 2.6899e-01,\n",
      "         5.5123e-01, 8.2470e-02, 4.1169e-01, 6.8429e-02]])\n"
     ]
    },
    {
     "ename": "IndexError",
     "evalue": "too many indices for tensor of dimension 2",
     "output_type": "error",
     "traceback": [
      "\u001b[1;31m---------------------------------------------------------------------------\u001b[0m",
      "\u001b[1;31mIndexError\u001b[0m                                Traceback (most recent call last)",
      "Cell \u001b[1;32mIn[16], line 6\u001b[0m\n\u001b[0;32m      3\u001b[0m output \u001b[38;5;241m=\u001b[39m \u001b[38;5;28minput\u001b[39m\u001b[38;5;241m.\u001b[39mview(B\u001b[38;5;241m*\u001b[39mT, C)\n\u001b[0;32m      4\u001b[0m \u001b[38;5;28mprint\u001b[39m(output)\n\u001b[1;32m----> 6\u001b[0m \u001b[38;5;28mprint\u001b[39m(output[:, \u001b[38;5;241m-\u001b[39m\u001b[38;5;241m1\u001b[39m, :])\n",
      "\u001b[1;31mIndexError\u001b[0m: too many indices for tensor of dimension 2"
     ]
    }
   ],
   "source": [
    "input = torch.rand((4, 8, 10))\n",
    "B, T, C = input.shape\n",
    "output = input.view(B*T, C)\n",
    "print(output)\n",
    "\n",
    "print(output[:, -1, :])"
   ]
  },
  {
   "cell_type": "code",
   "execution_count": 39,
   "id": "eb388476-1d5a-44ff-9190-d13e6170f835",
   "metadata": {},
   "outputs": [
    {
     "name": "stdout",
     "output_type": "stream",
     "text": [
      "tensor([-0.0500])\n"
     ]
    }
   ],
   "source": [
    "x =  torch.tensor([-0.05], dtype = torch.float32)\n",
    "y = F.tanh(x)\n",
    "print(y)"
   ]
  },
  {
   "cell_type": "code",
   "execution_count": null,
   "id": "cd1827ef-beb7-43bd-8a6d-6047bae445d0",
   "metadata": {},
   "outputs": [],
   "source": []
  }
 ],
 "metadata": {
  "kernelspec": {
   "display_name": "cuda-gpt",
   "language": "python",
   "name": "cuda"
  },
  "language_info": {
   "codemirror_mode": {
    "name": "ipython",
    "version": 3
   },
   "file_extension": ".py",
   "mimetype": "text/x-python",
   "name": "python",
   "nbconvert_exporter": "python",
   "pygments_lexer": "ipython3",
   "version": "3.11.7"
  }
 },
 "nbformat": 4,
 "nbformat_minor": 5
}

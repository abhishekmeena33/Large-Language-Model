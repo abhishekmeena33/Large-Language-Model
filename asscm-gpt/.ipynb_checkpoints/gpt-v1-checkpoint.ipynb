{
 "cells": [
  {
   "cell_type": "code",
   "execution_count": 130,
   "metadata": {},
   "outputs": [
    {
     "name": "stdout",
     "output_type": "stream",
     "text": [
      "cpu\n"
     ]
    }
   ],
   "source": [
    "import torch\n",
    "import torch.nn as nn\n",
    "from torch.nn import functional as F\n",
    "device = 'cuda' if torch.cuda.is_available() else 'cpu'\n",
    "print(device)\n",
    "block_size = 8\n",
    "batch_size = 4\n",
    "max_iters = 1000\n",
    "learning_rate = 3e-4\n",
    "eval_iters = 250\n",
    "dropout = 0.2"
   ]
  },
  {
   "cell_type": "code",
   "execution_count": 131,
   "metadata": {},
   "outputs": [
    {
     "name": "stdout",
     "output_type": "stream",
     "text": [
      "['\\n', ' ', '!', '\"', '&', \"'\", '(', ')', '*', ',', '-', '.', '0', '1', '2', '3', '4', '5', '6', '7', '8', '9', ':', ';', '?', 'A', 'B', 'C', 'D', 'E', 'F', 'G', 'H', 'I', 'J', 'K', 'L', 'M', 'N', 'O', 'P', 'Q', 'R', 'S', 'T', 'U', 'V', 'W', 'X', 'Y', 'Z', '[', ']', '_', 'a', 'b', 'c', 'd', 'e', 'f', 'g', 'h', 'i', 'j', 'k', 'l', 'm', 'n', 'o', 'p', 'q', 'r', 's', 't', 'u', 'v', 'w', 'x', 'y', 'z', '\\ufeff']\n",
      "81\n"
     ]
    }
   ],
   "source": [
    "with open('wizard_of_oz.txt', 'r', encoding='utf-8') as f:\n",
    "    text = f.read()\n",
    "chars = sorted(set(text))\n",
    "print(chars)\n",
    "print(len(chars))\n",
    "vocab_size = len(chars)"
   ]
  },
  {
   "cell_type": "code",
   "execution_count": 132,
   "metadata": {},
   "outputs": [
    {
     "name": "stdout",
     "output_type": "stream",
     "text": [
      "tensor([80,  0,  1,  1, 28, 39, 42, 39, 44, 32, 49,  1, 25, 38, 28,  1, 44, 32,\n",
      "        29,  1, 47, 33, 50, 25, 42, 28,  1, 33, 38,  1, 39, 50,  0,  0,  1,  1,\n",
      "        26, 49,  0,  0,  1,  1, 36, 11,  1, 30, 42, 25, 38, 35,  1, 26, 25, 45,\n",
      "        37,  0,  0,  1,  1, 25, 45, 44, 32, 39, 42,  1, 39, 30,  1, 44, 32, 29,\n",
      "         1, 47, 33, 50, 25, 42, 28,  1, 39, 30,  1, 39, 50,  9,  1, 44, 32, 29,\n",
      "         1, 36, 25, 38, 28,  1, 39, 30,  1, 39])\n"
     ]
    }
   ],
   "source": [
    "string_to_int = {ch:i for i,ch in enumerate(chars)}\n",
    "int_to_string = {i:ch for i,ch in enumerate(chars)}\n",
    "encode = lambda s: [string_to_int[c] for c in s]\n",
    "decode = lambda l: ''.join([int_to_string[i] for i in l])\n",
    "\n",
    "data = torch.tensor(encode(text), dtype=torch.long)\n",
    "print(data[:100])"
   ]
  },
  {
   "cell_type": "code",
   "execution_count": 133,
   "metadata": {},
   "outputs": [
    {
     "name": "stdout",
     "output_type": "stream",
     "text": [
      "inputs:\n",
      "tensor([[72, 58, 66, 55, 65, 54, 60, 58],\n",
      "        [61, 54, 73,  1, 73, 61, 58, 71],\n",
      "        [54, 65, 57,  1, 27, 62, 73, 78],\n",
      "        [ 1, 66, 74, 72, 73,  1, 55, 58]])\n",
      "targets:\n",
      "tensor([[58, 66, 55, 65, 54, 60, 58,  1],\n",
      "        [54, 73,  1, 73, 61, 58, 71, 58],\n",
      "        [65, 57,  1, 27, 62, 73, 78,  9],\n",
      "        [66, 74, 72, 73,  1, 55, 58,  1]])\n"
     ]
    }
   ],
   "source": [
    "n = int(0.8*len(data))\n",
    "train_data = data[:n]\n",
    "val_data = data[n:]\n",
    "\n",
    "def get_batch(split):\n",
    "    data = train_data if split == 'train' else val_data\n",
    "    ix = torch.randint(len(data)-block_size, (batch_size,))\n",
    "    # print(ix)\n",
    "    x = torch.stack([data[i:i+block_size] for i in ix])\n",
    "    y = torch.stack([data[i+1:i+block_size+1] for i in ix])\n",
    "    x,y = x.to(device), y.to(device)\n",
    "    return x, y\n",
    "\n",
    "x,y = get_batch('train')\n",
    "print('inputs:')\n",
    "print(x)\n",
    "print('targets:')\n",
    "print(y)"
   ]
  },
  {
   "cell_type": "code",
   "execution_count": 134,
   "metadata": {},
   "outputs": [
    {
     "name": "stdout",
     "output_type": "stream",
     "text": [
      "When input is tensor([80]) target is tensor(44)\n",
      "When input is tensor([80,  0]) target is tensor(32)\n",
      "When input is tensor([80,  0,  1]) target is tensor(49)\n",
      "When input is tensor([80,  0,  1,  1]) target is tensor(1)\n",
      "When input is tensor([80,  0,  1,  1, 28]) target is tensor(25)\n",
      "When input is tensor([80,  0,  1,  1, 28, 39]) target is tensor(38)\n",
      "When input is tensor([80,  0,  1,  1, 28, 39, 42]) target is tensor(28)\n",
      "When input is tensor([80,  0,  1,  1, 28, 39, 42, 39]) target is tensor(1)\n"
     ]
    }
   ],
   "source": [
    "\n",
    "x = train_data[:block_size]\n",
    "y = train_data[block_size:]\n",
    "\n",
    "for t in range(block_size):\n",
    "    context = x[:t+1]\n",
    "    target = y[t]\n",
    "    print('When input is', context,'target is', target)"
   ]
  },
  {
   "cell_type": "code",
   "execution_count": 135,
   "metadata": {},
   "outputs": [],
   "source": [
    "@torch.no_grad()\n",
    "def estimate_loss():\n",
    "    out = {}\n",
    "    model.eval()\n",
    "    for split in ['train', 'val']:\n",
    "        losses = torch.zeros(eval_iters)\n",
    "        for k in range(eval_iters):\n",
    "            X, Y = get_batch(split)\n",
    "            logits, loss = model(X, Y)\n",
    "            losses[k] = loss.item()\n",
    "        out[split] = losses.mean()\n",
    "    model.train()\n",
    "    return out"
   ]
  },
  {
   "cell_type": "code",
   "execution_count": 136,
   "metadata": {},
   "outputs": [
    {
     "name": "stdout",
     "output_type": "stream",
     "text": [
      "\n",
      ")(\n",
      "6ZWiXc?MBmVD0﻿yYO.Cci?e]r4bY9cbcRsgxW﻿\n",
      "xd]?zhJX'*l﻿Zf6'*sG\":,.JGj\"X(P.Q9﻿pjYa-q_;KsGMF&Kw'E;KtZjz:u\"x2&IDQj0C_wYwYF0MUL_JSu&MBpOgWdLtfwD;nTz2ry8YrbSulT6AcD'P(Y98r_ZX'-w.giWlUu Y,Sv CfQqvK:EMZ[SC5(\n",
      "MaiS.n\"x?tN9cHghPS.Kq[0&09Vbqk[wTcuhtUX;\"N[8Myj.r]lcpT*a9y(:rd,-M*I2f\n",
      "TQ-[D9![e[oYofvi\n",
      "Hw[TSwZW[\"2]cm,.f)rFntP6GyZoY﻿R2mxvc.Q!bRN5bqLO1)jKqvZJWaAOgP'rRAe\"'Vk﻿&I5eyo6tLw[z8f1xk'-0rbWtCd5QPsoqSsa]hK?an\"G(Op_yvwp\n",
      ";s0iX\"v*glxM\"﻿.CygqWwZUh\"f]rjR1zfG3g-I!Ce38*N0g)mQ-IHx&:7RMu0ql\n",
      ",(qcuKH3WOcuU8n,36s*Rl:8Q!\n"
     ]
    }
   ],
   "source": [
    "class BigramLanguagaeModel(nn.Module):\n",
    "    def __init__(self, vocab_size):\n",
    "        super().__init__()\n",
    "        self.token_embedding_table = nn.Embedding(vocab_size, vocab_size)\n",
    "\n",
    "    def forward(self, index, targets=None):\n",
    "        logits = self.token_embedding_table(index)\n",
    "\n",
    "        if targets is None:\n",
    "            loss = None\n",
    "        else:\n",
    "            B, T, C = logits.shape\n",
    "            logits = logits.view(B*T, C)\n",
    "            targets = targets.view(B*T)\n",
    "            loss = F.cross_entropy(logits, targets)\n",
    "        return logits, loss\n",
    "        \n",
    "    \n",
    "    def generate(self, index, max_new_tokens):\n",
    "\n",
    "        for _ in range(max_new_tokens):\n",
    "            logits, loss = self.forward(index)\n",
    "            logits = logits[:, -1, :]\n",
    "            probs = F.softmax(logits, dim=-1)\n",
    "            index_next = torch.multinomial(probs, num_samples=1)\n",
    "            index = torch.cat((index, index_next), dim=1)\n",
    "        return index\n",
    "\n",
    "model = BigramLanguagaeModel(vocab_size)\n",
    "m = model.to(device)\n",
    "\n",
    "context = torch.zeros((1,1), dtype =torch.long, device = device)\n",
    "generated_chars = decode(m.generate(context, max_new_tokens=500)[0].tolist())\n",
    "print(generated_chars)"
   ]
  },
  {
   "cell_type": "code",
   "execution_count": 139,
   "metadata": {},
   "outputs": [
    {
     "name": "stdout",
     "output_type": "stream",
     "text": [
      "step:0, train loss:  4.6884, val loss:  4.7069\n",
      "step:250, train loss:  4.6342, val loss:  4.6279\n",
      "step:500, train loss:  4.5559, val loss:  4.5840\n",
      "step:750, train loss:  4.4996, val loss:  4.5267\n",
      "4.482504367828369\n"
     ]
    }
   ],
   "source": [
    "#Creating a PyTorch Optimizer\n",
    "\n",
    "optimizer = torch.optim.AdamW(model.parameters(), lr=learning_rate)\n",
    "\n",
    "for iter in range(max_iters):\n",
    "    if iter % eval_iters ==0:\n",
    "        losses = estimate_loss()\n",
    "        print(f\"step:{iter}, train loss: {losses['train'] : .4f}, val loss: {losses['val'] : .4f}\")\n",
    "    #sample a batch of data\n",
    "    xb, yb = get_batch('train')\n",
    "\n",
    "    #evaluate the loss\n",
    "    logits, loss = model.forward(xb, yb)\n",
    "    optimizer.zero_grad(set_to_none = True)\n",
    "    loss.backward()\n",
    "    optimizer.step()\n",
    "\n",
    "print(loss.item())"
   ]
  },
  {
   "cell_type": "code",
   "execution_count": 140,
   "metadata": {},
   "outputs": [
    {
     "name": "stdout",
     "output_type": "stream",
     "text": [
      "\n",
      "bZ45GS-&f3Wts*sGqJ0qWi]w[0yv﻿sgTt8h.*soYrLDL5PAU9gU3b5i(6ywowfzd.DDBGmx0r];gStL JT*rGT2Q:L4u wd4c\"QXpl5Am(6_F-6l Rp6jKX﻿a*(Gbz*0r9cTSZZBaf);Q:0k﻿Op*9cu BA(ThAbQtRnD'q1el:d,(6ZDKc8(GuTv :7,X\n",
      "Wg]\"\" 8iXBpOQ3h﻿hm\n",
      "iykiexRfSkO0AVUcs;:﻿BF]9DuZ4E]GMFVzAub0TS2\"LSDAy.n;KviVSwfEU7(﻿sk7ODOHgLHAOhO 9[INm 2vwT*Ssw9WXJnky.DYevf'a jkfUL[!_s.y\n",
      ".O0Ae(6pOTx]aAW9LSsNToiVDd,?J*kRr*9jTkv6oHO.k quCc!_tUS omN[0SjeR1 'R1ea9E]E\"y6HKvziKZRHCT*.-w'f]6ZlVb!-w'1V7Opj6jiY48O.DSuZ0.*﻿OE\"mFkj0uc?4*kU) 32b(88h WN\n",
      "*\":yPj\"N9Yw6Vbo\n"
     ]
    }
   ],
   "source": [
    "context = torch.zeros((1,1), dtype = torch.long,  device=device)\n",
    "generated_chars = decode(m.generate(context, max_new_tokens=500)[0].tolist())\n",
    "print(generated_chars)"
   ]
  },
  {
   "cell_type": "code",
   "execution_count": null,
   "metadata": {},
   "outputs": [],
   "source": []
  }
 ],
 "metadata": {
  "kernelspec": {
   "display_name": "cuda-gpt",
   "language": "python",
   "name": "cuda"
  },
  "language_info": {
   "codemirror_mode": {
    "name": "ipython",
    "version": 3
   },
   "file_extension": ".py",
   "mimetype": "text/x-python",
   "name": "python",
   "nbconvert_exporter": "python",
   "pygments_lexer": "ipython3",
   "version": "3.11.7"
  }
 },
 "nbformat": 4,
 "nbformat_minor": 4
}

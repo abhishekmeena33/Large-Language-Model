{
 "cells": [
  {
   "cell_type": "code",
   "execution_count": 8,
   "metadata": {},
   "outputs": [
    {
     "name": "stdout",
     "output_type": "stream",
     "text": [
      "cpu\n"
     ]
    }
   ],
   "source": [
    "import torch\n",
    "import torch.nn as nn\n",
    "from torch.nn import functional as F\n",
    "device = 'cuda' if torch.cuda.is_available() else 'cpu'\n",
    "print(device)\n",
    "block_size = 8\n",
    "batch_size = 4\n",
    "max_iters = 1000\n",
    "learning_rate = 3e-4\n",
    "eval_iters = 250\n",
    "n_embd = 384\n",
    "n_layer = 4"
   ]
  },
  {
   "cell_type": "code",
   "execution_count": 9,
   "metadata": {},
   "outputs": [
    {
     "name": "stdout",
     "output_type": "stream",
     "text": [
      "['\\n', ' ', '!', '\"', '&', \"'\", '(', ')', '*', ',', '-', '.', '0', '1', '2', '3', '4', '5', '6', '7', '8', '9', ':', ';', '?', 'A', 'B', 'C', 'D', 'E', 'F', 'G', 'H', 'I', 'J', 'K', 'L', 'M', 'N', 'O', 'P', 'Q', 'R', 'S', 'T', 'U', 'V', 'W', 'X', 'Y', 'Z', '[', ']', '_', 'a', 'b', 'c', 'd', 'e', 'f', 'g', 'h', 'i', 'j', 'k', 'l', 'm', 'n', 'o', 'p', 'q', 'r', 's', 't', 'u', 'v', 'w', 'x', 'y', 'z', '\\ufeff']\n",
      "81\n"
     ]
    }
   ],
   "source": [
    "with open('wizard_of_oz.txt', 'r', encoding='utf-8') as f:\n",
    "    text = f.read()\n",
    "chars = sorted(set(text))\n",
    "print(chars)\n",
    "print(len(chars))\n",
    "vocab_size = len(chars)"
   ]
  },
  {
   "cell_type": "code",
   "execution_count": 10,
   "metadata": {},
   "outputs": [
    {
     "name": "stdout",
     "output_type": "stream",
     "text": [
      "tensor([80,  0,  1,  1, 28, 39, 42, 39, 44, 32, 49,  1, 25, 38, 28,  1, 44, 32,\n",
      "        29,  1, 47, 33, 50, 25, 42, 28,  1, 33, 38,  1, 39, 50,  0,  0,  1,  1,\n",
      "        26, 49,  0,  0,  1,  1, 36, 11,  1, 30, 42, 25, 38, 35,  1, 26, 25, 45,\n",
      "        37,  0,  0,  1,  1, 25, 45, 44, 32, 39, 42,  1, 39, 30,  1, 44, 32, 29,\n",
      "         1, 47, 33, 50, 25, 42, 28,  1, 39, 30,  1, 39, 50,  9,  1, 44, 32, 29,\n",
      "         1, 36, 25, 38, 28,  1, 39, 30,  1, 39])\n"
     ]
    }
   ],
   "source": [
    "string_to_int = {ch:i for i,ch in enumerate(chars)}\n",
    "int_to_string = {i:ch for i,ch in enumerate(chars)}\n",
    "encode = lambda s: [string_to_int[c] for c in s]\n",
    "decode = lambda l: ''.join([int_to_string[i] for i in l])\n",
    "\n",
    "data = torch.tensor(encode(text), dtype=torch.long)\n",
    "print(data[:100])"
   ]
  },
  {
   "cell_type": "code",
   "execution_count": 11,
   "metadata": {},
   "outputs": [
    {
     "name": "stdout",
     "output_type": "stream",
     "text": [
      "inputs:\n",
      "tensor([[57, 68, 67,  5, 73,  1, 73, 61],\n",
      "        [58, 67,  1, 29, 74, 71, 58, 64],\n",
      "        [66,  1, 73, 61, 58, 66,  1, 59],\n",
      "        [67, 58, 78, 62, 67, 60,  1, 73]])\n",
      "targets:\n",
      "tensor([[68, 67,  5, 73,  1, 73, 61, 62],\n",
      "        [67,  1, 29, 74, 71, 58, 64, 54],\n",
      "        [ 1, 73, 61, 58, 66,  1, 59, 68],\n",
      "        [58, 78, 62, 67, 60,  1, 73, 61]])\n"
     ]
    }
   ],
   "source": [
    "n = int(0.8*len(data))\n",
    "train_data = data[:n]\n",
    "val_data = data[n:]\n",
    "\n",
    "def get_batch(split):\n",
    "    data = train_data if split == 'train' else val_data\n",
    "    ix = torch.randint(len(data)-block_size, (batch_size,))\n",
    "    # print(ix)\n",
    "    x = torch.stack([data[i:i+block_size] for i in ix])\n",
    "    y = torch.stack([data[i+1:i+block_size+1] for i in ix])\n",
    "    x,y = x.to(device), y.to(device)\n",
    "    return x, y\n",
    "\n",
    "x,y = get_batch('train')\n",
    "print('inputs:')\n",
    "print(x)\n",
    "print('targets:')\n",
    "print(y)"
   ]
  },
  {
   "cell_type": "code",
   "execution_count": 12,
   "metadata": {},
   "outputs": [
    {
     "name": "stdout",
     "output_type": "stream",
     "text": [
      "When input is tensor([80]) target is tensor(44)\n",
      "When input is tensor([80,  0]) target is tensor(32)\n",
      "When input is tensor([80,  0,  1]) target is tensor(49)\n",
      "When input is tensor([80,  0,  1,  1]) target is tensor(1)\n",
      "When input is tensor([80,  0,  1,  1, 28]) target is tensor(25)\n",
      "When input is tensor([80,  0,  1,  1, 28, 39]) target is tensor(38)\n",
      "When input is tensor([80,  0,  1,  1, 28, 39, 42]) target is tensor(28)\n",
      "When input is tensor([80,  0,  1,  1, 28, 39, 42, 39]) target is tensor(1)\n"
     ]
    }
   ],
   "source": [
    "\n",
    "x = train_data[:block_size]\n",
    "y = train_data[block_size:]\n",
    "\n",
    "for t in range(block_size):\n",
    "    context = x[:t+1]\n",
    "    target = y[t]\n",
    "    print('When input is', context,'target is', target)"
   ]
  },
  {
   "cell_type": "code",
   "execution_count": 13,
   "metadata": {},
   "outputs": [],
   "source": [
    "@torch.no_grad()\n",
    "def estimate_loss():\n",
    "    out = {}\n",
    "    model.eval()\n",
    "    for split in ['train', 'val']:\n",
    "        losses = torch.zeros(eval_iters)\n",
    "        for k in range(eval_iters):\n",
    "            X, Y = get_batch(split)\n",
    "            logits, loss = model(X, Y)\n",
    "            losses[k] = loss.item()\n",
    "        out[split] = losses.mean()\n",
    "    model.train()\n",
    "    return out"
   ]
  },
  {
   "cell_type": "code",
   "execution_count": 14,
   "metadata": {},
   "outputs": [
    {
     "name": "stdout",
     "output_type": "stream",
     "text": [
      "\n",
      "G-lgt21RTmUSF!FN0x!\"D﻿!Ix[eHG_QS8H1Zh JyqNQ*XXuAKFE_(z﻿5'5\"(Gy,aifgJPJ*'gG9nmm5z(?we[RQ&H6WT&1\n",
      "PJP1&_c4(Z9i\n",
      "KwVGvkBpA1*KXnozt*xQ Y﻿-j:ru-p'b-1y,tyz[EO'vtQ)XNsIFubC]svwKwvu[cnEtJ8HfvKeW&&GbYv(RTvEoqe1v;x4I6?5gEKi)tyRTT&E674QQmt0Vv?FUq1g\n",
      "ME6OtlgWD;:rQ?&-;ZaCSc﻿ha(FPh]\n",
      "P5?7P])dx:KQEMZ!\"tc9 Yv([eAa3!!OWO?GYz,(7(_WII6RDN0y,fQnJ&\n",
      "QoviM6Jx?u8He1\"?JI4jmh﻿.v(NME'C&_;XNv*WGiuT'\"V0MMMSZRfgqql,2PJe7rE4Tn2wF\"09nfOu7!JIxUYAHnYePGCko!L.cHNH.0M.v5EfQ\"]su-1\"0hfN7RQWayPriGPGpAX4W3k&cFZR(﻿5zXjruqKp*?_;jXUQbCTq1DeA\n"
     ]
    }
   ],
   "source": [
    "class GPTLanguagaeModel(nn.Module):\n",
    "    def __init__(self, vocab_size):\n",
    "        super().__init__()\n",
    "        self.token_embedding_table = nn.Embedding(vocab_size, n_embd)\n",
    "        self.position_embedding_table = nn.Embedding(block_size, n_embd)\n",
    "        self.blocks = nn.Sequential(*[Block(n_embd, n_head = n_head) for _ in range(n_layer)])\n",
    "        \n",
    "        self.ln_f = nn.LayerNorm(n_embd) #final layer norm\n",
    "        self.lm_head = nn.Linear(n_embd, vocab_size)\n",
    "\n",
    "    def forward(self, index, targets=None):\n",
    "        logits = self.token_embedding_table(index)\n",
    "\n",
    "        if targets is None:\n",
    "            loss = None\n",
    "        else:\n",
    "            B, T, C = logits.shape\n",
    "            logits = logits.view(B*T, C)\n",
    "            targets = targets.view(B*T)\n",
    "            loss = F.cross_entropy(logits, targets)\n",
    "        return logits, loss\n",
    "        \n",
    "    \n",
    "    def generate(self, index, max_new_tokens):\n",
    "\n",
    "        for _ in range(max_new_tokens):\n",
    "            logits, loss = self.forward(index)\n",
    "            logits = logits[:, -1, :]\n",
    "            probs = F.softmax(logits, dim=-1)\n",
    "            index_next = torch.multinomial(probs, num_samples=1)\n",
    "            index = torch.cat((index, index_next), dim=1)\n",
    "        return index\n",
    "\n",
    "model = GPTLanguagaeModel(vocab_size)\n",
    "m = model.to(device)\n",
    "\n",
    "context = torch.zeros((1,1), dtype =torch.long, device = device)\n",
    "generated_chars = decode(m.generate(context, max_new_tokens=500)[0].tolist())\n",
    "print(generated_chars)"
   ]
  },
  {
   "cell_type": "code",
   "execution_count": 15,
   "metadata": {},
   "outputs": [
    {
     "name": "stdout",
     "output_type": "stream",
     "text": [
      "step:0, train loss:  4.9015, val loss:  4.9056\n",
      "step:250, train loss:  4.8240, val loss:  4.8394\n",
      "step:500, train loss:  4.7697, val loss:  4.7807\n",
      "step:750, train loss:  4.7193, val loss:  4.7251\n",
      "4.381287097930908\n"
     ]
    }
   ],
   "source": [
    "#Creating a PyTorch Optimizer\n",
    "\n",
    "optimizer = torch.optim.AdamW(model.parameters(), lr=learning_rate)\n",
    "\n",
    "for iter in range(max_iters):\n",
    "    if iter % eval_iters ==0:\n",
    "        losses = estimate_loss()\n",
    "        print(f\"step:{iter}, train loss: {losses['train'] : .4f}, val loss: {losses['val'] : .4f}\")\n",
    "    #sample a batch of data\n",
    "    xb, yb = get_batch('train')\n",
    "\n",
    "    #evaluate the loss\n",
    "    logits, loss = model.forward(xb, yb)\n",
    "    optimizer.zero_grad(set_to_none = True)\n",
    "    loss.backward()\n",
    "    optimizer.step()\n",
    "\n",
    "print(loss.item())"
   ]
  },
  {
   "cell_type": "code",
   "execution_count": 16,
   "metadata": {},
   "outputs": [
    {
     "name": "stdout",
     "output_type": "stream",
     "text": [
      "\n",
      "Q[9G9Dy﻿5f::Y9larEB9V7O!Lol2hgMj-fQ5?yjKGsF]tm&1AZ-0E?dz*Pb5qkPK6i&eZe&ubmulWPJO*.v(8qqWr!\"fl1g7:v(O:,C7K&Scn1CliDn6'.WX\"4cs?z0X(AcU.ygF!k)*-MEKeid_V?K﻿9y_rEH0*eBmQ )x.YiV TR0AZy;0;x﻿.FfRHs\"AHGfr3F6w:r;K8]c.cB'!Hl4kldix!\n",
      "QVgFm8FQWq1H_r-eetYjTvxQ4y ,i,mwAdneWE'E'fg3MOWo &E;sSFp]lnO)8aoc\"8'(eA]8f9TjUP7z(byQzRgO*XzVLT[;6RTD(N753S\n",
      "Gl6z.tf6.YMQD﻿\n",
      "*ngq2nVfgiEMfv5'bY[\"WqxPSWij'4csXPh&e N﻿3b\"4;zQDG2B9PJ a*h9?5H0QCR6nW\"?bY﻿V,y:hgGrMu9&Jl,gAl1\"De\n",
      "N0rurHffm7j_\"vZD﻿RTj4Vbf0!B[9mjC8HrdB.v(PJS]D﻿)\",Xi:7gSXz0A\n"
     ]
    }
   ],
   "source": [
    "context = torch.zeros((1,1), dtype = torch.long,  device=device)\n",
    "generated_chars = decode(m.generate(context, max_new_tokens=500)[0].tolist())\n",
    "print(generated_chars)"
   ]
  },
  {
   "cell_type": "code",
   "execution_count": null,
   "metadata": {},
   "outputs": [],
   "source": []
  }
 ],
 "metadata": {
  "kernelspec": {
   "display_name": "cuda-gpt",
   "language": "python",
   "name": "cuda"
  },
  "language_info": {
   "codemirror_mode": {
    "name": "ipython",
    "version": 3
   },
   "file_extension": ".py",
   "mimetype": "text/x-python",
   "name": "python",
   "nbconvert_exporter": "python",
   "pygments_lexer": "ipython3",
   "version": "3.11.7"
  }
 },
 "nbformat": 4,
 "nbformat_minor": 4
}
